{
 "cells": [
  {
   "cell_type": "markdown",
   "metadata": {},
   "source": [
    "Write a Python Program to print half pyramid using alphabets. \n",
    "The pattern should be as shown below:\n",
    "\n",
    "A\n",
    "\n",
    "B B\n",
    "\n",
    "C C C\n",
    "\n",
    "D D D D\n",
    "\n",
    "E E E E E"
   ]
  },
  {
   "cell_type": "code",
   "execution_count": 20,
   "metadata": {},
   "outputs": [
    {
     "name": "stdout",
     "output_type": "stream",
     "text": [
      "A \n",
      "\n",
      "B B \n",
      "\n",
      "C C C \n",
      "\n",
      "D D D D \n",
      "\n",
      "E E E E E \n",
      "\n"
     ]
    }
   ],
   "source": [
    "s='ABCDE'\n",
    "for i in range(len(s)):\n",
    "    for j in range(1,i+2):\n",
    "        print(s[i],end=' ')\n",
    "    print()\n",
    "    print()\n",
    "    \n",
    "   \n",
    "    \n"
   ]
  },
  {
   "cell_type": "code",
   "execution_count": 25,
   "metadata": {},
   "outputs": [
    {
     "ename": "TypeError",
     "evalue": "can't multiply sequence by non-int of type 'str'",
     "output_type": "error",
     "traceback": [
      "\u001b[1;31m---------------------------------------------------------------------------\u001b[0m",
      "\u001b[1;31mTypeError\u001b[0m                                 Traceback (most recent call last)",
      "Cell \u001b[1;32mIn [25], line 3\u001b[0m\n\u001b[0;32m      1\u001b[0m s\u001b[39m=\u001b[39m\u001b[39m'\u001b[39m\u001b[39mABCDE\u001b[39m\u001b[39m'\u001b[39m\n\u001b[0;32m      2\u001b[0m \u001b[39mfor\u001b[39;00m i \u001b[39min\u001b[39;00m \u001b[39mrange\u001b[39m(\u001b[39mlen\u001b[39m(s)):\n\u001b[1;32m----> 3\u001b[0m     \u001b[39mprint\u001b[39m(s[i]\u001b[39m*\u001b[39;49m(i\u001b[39m+\u001b[39;49m\u001b[39m1\u001b[39;49m)\u001b[39m*\u001b[39;49m\u001b[39m\"\u001b[39;49m\u001b[39m \u001b[39;49m\u001b[39m\"\u001b[39;49m)\n\u001b[0;32m      4\u001b[0m     \u001b[39mprint\u001b[39m(\u001b[39m'\u001b[39m\u001b[39m \u001b[39m\u001b[39m'\u001b[39m)\n",
      "\u001b[1;31mTypeError\u001b[0m: can't multiply sequence by non-int of type 'str'"
     ]
    }
   ],
   "source": [
    "s='ABCDE'\n",
    "for i in range(len(s)):\n",
    "    print(s[i]*(i+1)*\" \")\n",
    "    print(' ')"
   ]
  },
  {
   "cell_type": "markdown",
   "metadata": {},
   "source": [
    "Write a Python Program to print full pyramid using '*' symbol. The pattern should be as shown below:\n",
    "\n",
    "*\n",
    "\n",
    "* * *\n",
    "\n",
    "* * * * *\n",
    "\n",
    "* * * * * * *\n",
    "\n",
    "* * * * * * * * *;"
   ]
  },
  {
   "cell_type": "code",
   "execution_count": 26,
   "metadata": {},
   "outputs": [
    {
     "name": "stdout",
     "output_type": "stream",
     "text": [
      "* \n",
      "\n",
      "* * * \n",
      "\n",
      "* * * * * \n",
      "\n",
      "* * * * * * * \n",
      "\n",
      "* * * * * * * * * \n",
      "\n"
     ]
    }
   ],
   "source": [
    "n=5\n",
    "for i in range(1,n+1):\n",
    "    for j in range(1,2*i):\n",
    "        print('*', end=' ')\n",
    "    print()\n",
    "    print()"
   ]
  },
  {
   "cell_type": "code",
   "execution_count": 27,
   "metadata": {},
   "outputs": [
    {
     "name": "stdout",
     "output_type": "stream",
     "text": [
      "* \n",
      "\n",
      "* * * \n",
      "\n",
      "* * * * * \n",
      "\n",
      "* * * * * * * \n",
      "\n",
      "* * * * * * * * * \n",
      "\n"
     ]
    }
   ],
   "source": [
    "# solution2\n",
    "n=5\n",
    "for i in range(0,n):\n",
    "    print('* '*(2*i+1))\n",
    "    print()"
   ]
  },
  {
   "cell_type": "markdown",
   "metadata": {},
   "source": [
    "Take a number as input from the user. Print the number in reversed order. For example, for input 567, output should be: 765"
   ]
  },
  {
   "cell_type": "code",
   "execution_count": null,
   "metadata": {},
   "outputs": [],
   "source": [
    "# solution 1\n",
    "n= 567\n",
    "rev=0\n",
    "while n!=0:\n",
    "    rem=n%10\n",
    "    rev=rev*10+rem\n",
    "    n=n//10\n",
    "print(rev)"
   ]
  },
  {
   "cell_type": "code",
   "execution_count": null,
   "metadata": {},
   "outputs": [],
   "source": [
    "# solution 2\n",
    "n=567\n",
    "rev=0\n",
    "for i in range(len(str(n))):\n",
    "    rem = n%10\n",
    "    rev=rev*10+rem\n",
    "    n=n//10\n",
    "print(rev)"
   ]
  },
  {
   "cell_type": "markdown",
   "metadata": {},
   "source": [
    "Given an array arr[] of integers. Find a peak element i.e. an element that is not smaller than its neighbors. \n",
    "\n",
    "Note: For corner elements, we need to consider only one neighbor. \n",
    "\n",
    "Example:\n",
    "\n",
    "Input: array[]= {5, 10, 20, 15}\n",
    "\n",
    "Output: 20\n",
    "\n",
    "Explanation: The element 20 has neighbors 10 and 15, both of them are less than 20.\n",
    "\n",
    "Input: array[] = {10, 20, 15, 2, 23, 90, 67}\n",
    "\n",
    "Output: 20 or 90\n",
    "\n",
    "Explanation: The element 20 has neighbors 10 and 15, both of them are less than 20, similarly 90 has neighbors 23 and 67."
   ]
  },
  {
   "cell_type": "code",
   "execution_count": 28,
   "metadata": {},
   "outputs": [
    {
     "ename": "TypeError",
     "evalue": "object of type 'types.GenericAlias' has no len()",
     "output_type": "error",
     "traceback": [
      "\u001b[1;31m---------------------------------------------------------------------------\u001b[0m",
      "\u001b[1;31mTypeError\u001b[0m                                 Traceback (most recent call last)",
      "Cell \u001b[1;32mIn [28], line 3\u001b[0m\n\u001b[0;32m      1\u001b[0m s\u001b[39m=\u001b[39m{\u001b[39m10\u001b[39m, \u001b[39m20\u001b[39m, \u001b[39m15\u001b[39m, \u001b[39m2\u001b[39m, \u001b[39m23\u001b[39m, \u001b[39m90\u001b[39m, \u001b[39m67\u001b[39m}\n\u001b[0;32m      2\u001b[0m l\u001b[39m=\u001b[39m\u001b[39mlist\u001b[39m[s]\n\u001b[1;32m----> 3\u001b[0m \u001b[39mfor\u001b[39;00m i \u001b[39min\u001b[39;00m \u001b[39mrange\u001b[39m(\u001b[39mlen\u001b[39;49m(l)):\n\u001b[0;32m      4\u001b[0m     \u001b[39mfor\u001b[39;00m j \u001b[39min\u001b[39;00m \u001b[39mrange\u001b[39m(\u001b[39mlen\u001b[39m(l)):\n\u001b[0;32m      5\u001b[0m         \u001b[39mif\u001b[39;00m i\u001b[39m<\u001b[39mj \u001b[39mand\u001b[39;00m j\u001b[39m<\u001b[39mi\u001b[39m+\u001b[39m\u001b[39m2\u001b[39m:\n",
      "\u001b[1;31mTypeError\u001b[0m: object of type 'types.GenericAlias' has no len()"
     ]
    }
   ],
   "source": [
    "s={10, 20, 15, 2, 23, 90, 67}\n",
    "l=list[s]\n",
    "for i in range(len(l)):\n",
    "    for j in range(len(l)):\n",
    "        if i<j and j<i+2:\n",
    "            print(s[j])\n"
   ]
  },
  {
   "cell_type": "markdown",
   "metadata": {},
   "source": [
    "Given an array, cyclically rotate the array clockwise by one. \n",
    "\n",
    "Examples:  \n",
    "\n",
    "Input: arr[] = {1, 2, 3, 4, 5}\n",
    "\n",
    "Output: arr[] = {5, 1, 2, 3, 4}"
   ]
  },
  {
   "cell_type": "code",
   "execution_count": 38,
   "metadata": {},
   "outputs": [
    {
     "name": "stdout",
     "output_type": "stream",
     "text": [
      "[5, 1, 2, 3, 4]\n"
     ]
    }
   ],
   "source": [
    "def rotate(arr,n):\n",
    "    x=arr[n-1]\n",
    "    for i in range (n-1,0,-1):\n",
    "        arr[i]=arr[i-1]\n",
    "    arr[0]=x\n",
    "arr=[1,2,3,4,5]\n",
    "n=len(arr)\n",
    "rotate(arr,n)\n",
    "print(arr)        "
   ]
  },
  {
   "cell_type": "markdown",
   "metadata": {},
   "source": [
    "Given an array of integers, find the length of the longest sub-sequence such that elements in the subsequence are consecutive integers, the consecutive numbers can be in any order. \n",
    "\n",
    "Examples:  \n",
    "\n",
    "Input: arr[] = {1, 9, 3, 10, 4, 20, 2}\n",
    "\n",
    "Output: 4\n",
    "\n",
    "Explanation: The subsequence 1, 3, 4, 2 is the longest subsequence of consecutive elements\n",
    "\n",
    "Input: arr[] = {36, 41, 56, 35, 44, 33, 34, 92, 43, 32, 42}\n",
    "\n",
    "Output: 5\n",
    "\n",
    "Explanation: The subsequence 36, 35, 33, 34, 32 is the longest subsequence of consecutive elements.\n",
    "\n"
   ]
  }
 ],
 "metadata": {
  "kernelspec": {
   "display_name": "Python 3.10.7 64-bit",
   "language": "python",
   "name": "python3"
  },
  "language_info": {
   "codemirror_mode": {
    "name": "ipython",
    "version": 3
   },
   "file_extension": ".py",
   "mimetype": "text/x-python",
   "name": "python",
   "nbconvert_exporter": "python",
   "pygments_lexer": "ipython3",
   "version": "3.10.7"
  },
  "orig_nbformat": 4,
  "vscode": {
   "interpreter": {
    "hash": "26de051ba29f2982a8de78e945f0abaf191376122a1563185a90213a26c5da77"
   }
  }
 },
 "nbformat": 4,
 "nbformat_minor": 2
}
